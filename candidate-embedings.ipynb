{
 "cells": [
  {
   "cell_type": "markdown",
   "id": "60dc59fb",
   "metadata": {},
   "source": [
    "Test project"
   ]
  },
  {
   "cell_type": "code",
   "execution_count": 12,
   "id": "7dc437ff",
   "metadata": {},
   "outputs": [],
   "source": [
    "# 1. Example data - Candidates and job offers for a nursing position\n",
    "\n",
    "candidates = [\n",
    "\"Nurse with 5 years of experience in the intensive care unit, speaks English and German\",\n",
    "\"Community nurse, worked in home care, speaks only Polish\",\n",
    "\"Junior nurse with a traineeship in pediatrics, looking for a job in a children's hospital\",\n",
    "\"Experienced surgical nurse, worked in surgical procedures, speaks English\",         \n",
    "\"Young nurse with a traineeship, looking for a job in a children's hospital\",\n",
    "\"Nurse with experience in psychiatry and addiction therapy\"\n",
    "]\n",
    "\n",
    "job_offers = [\n",
    "\"A regional hospital is looking for a scrub nurse to work in the surgical suite\",\n",
    "\"A nursing home is hiring a community nurse to care for patients at home\",\n",
    "\"A pediatric clinic in Warsaw is looking for a junior nurse, apprenticeship available\",\n",
    "\"An addiction treatment center is looking for a nurse with psychiatric experience\",\n",
    "\"A university hospital is looking for a nurse in the intensive care unit, English required.\"\n",
    "]"
   ]
  },
  {
   "cell_type": "code",
   "execution_count": 13,
   "id": "65135170",
   "metadata": {},
   "outputs": [
    {
     "name": "stderr",
     "output_type": "stream",
     "text": [
      "c:\\Wieslaw\\Learning\\AI\\Embedings-for-Ravehealth\\.venv\\Lib\\site-packages\\torch\\nn\\modules\\module.py:1762: FutureWarning: `encoder_attention_mask` is deprecated and will be removed in version 4.55.0 for `BertSdpaSelfAttention.forward`.\n",
      "  return forward_call(*args, **kwargs)\n"
     ]
    }
   ],
   "source": [
    "# 2. Calculate embeddings by calling model.encode()\n",
    "from sentence_transformers import SentenceTransformer, util\n",
    "import numpy as np\n",
    "\n",
    "model = SentenceTransformer('all-MiniLM-L6-v2')\n",
    "\n",
    "candidate_embeddings = model.encode(candidates, convert_to_tensor=True)\n",
    "job_embeddings = model.encode(job_offers, convert_to_tensor=True)"
   ]
  },
  {
   "cell_type": "code",
   "execution_count": 14,
   "id": "fdcc5ece",
   "metadata": {},
   "outputs": [
    {
     "name": "stdout",
     "output_type": "stream",
     "text": [
      "\n",
      "Candidate: Nurse with 5 years of experience in the intensive care unit, speaks English and German\n",
      "The best matching: A university hospital is looking for a nurse in the intensive care unit, English required.\n",
      "Probability: 0.75\n",
      "\n",
      "Candidate: Community nurse, worked in home care, speaks only Polish\n",
      "The best matching: A nursing home is hiring a community nurse to care for patients at home\n",
      "Probability: 0.57\n",
      "\n",
      "Candidate: Junior nurse with a traineeship in pediatrics, looking for a job in a children's hospital\n",
      "The best matching: A pediatric clinic in Warsaw is looking for a junior nurse, apprenticeship available\n",
      "Probability: 0.67\n",
      "\n",
      "Candidate: Experienced surgical nurse, worked in surgical procedures, speaks English\n",
      "The best matching: A regional hospital is looking for a scrub nurse to work in the surgical suite\n",
      "Probability: 0.56\n",
      "\n",
      "Candidate: Young nurse with a traineeship, looking for a job in a children's hospital\n",
      "The best matching: A pediatric clinic in Warsaw is looking for a junior nurse, apprenticeship available\n",
      "Probability: 0.65\n",
      "\n",
      "Candidate: Nurse with experience in psychiatry and addiction therapy\n",
      "The best matching: An addiction treatment center is looking for a nurse with psychiatric experience\n",
      "Probability: 0.85\n"
     ]
    }
   ],
   "source": [
    "# 3. Calculate the embedding similarities\n",
    "import torch\n",
    "\n",
    "# Calculate probability S(cosine similarity)\n",
    "similarities = util.cos_sim(candidate_embeddings, job_embeddings)\n",
    "\n",
    "# Show results\n",
    "for i, candidate in enumerate(candidates):\n",
    "    best_match_idx = torch.argmax(similarities[i]).item()\n",
    "    score = similarities[i][best_match_idx].item()\n",
    "    print(f\"\\nCandidate: {candidate}\")\n",
    "    print(f\"The best matching: {job_offers[best_match_idx]}\")\n",
    "    print(f\"Probability: {score:.2f}\")\n"
   ]
  },
  {
   "cell_type": "markdown",
   "id": "5d38bec0",
   "metadata": {},
   "source": []
  }
 ],
 "metadata": {
  "kernelspec": {
   "display_name": ".venv",
   "language": "python",
   "name": "python3"
  },
  "language_info": {
   "codemirror_mode": {
    "name": "ipython",
    "version": 3
   },
   "file_extension": ".py",
   "mimetype": "text/x-python",
   "name": "python",
   "nbconvert_exporter": "python",
   "pygments_lexer": "ipython3",
   "version": "3.11.4"
  }
 },
 "nbformat": 4,
 "nbformat_minor": 5
}
